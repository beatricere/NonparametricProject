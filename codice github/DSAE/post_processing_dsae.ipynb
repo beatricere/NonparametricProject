{
 "cells": [
  {
   "cell_type": "code",
   "execution_count": 1,
   "metadata": {},
   "outputs": [],
   "source": [
    "import pandas as pd"
   ]
  },
  {
   "cell_type": "code",
   "execution_count": 10,
   "metadata": {},
   "outputs": [],
   "source": [
    "latent_dim = 16\n",
    "num_epochs = 500\n",
    "B = 10\n",
    "\n",
    "RE_minority = pd.read_csv(f\"experiment_dim_{latent_dim}_B_{B}/n_epochs_{num_epochs}_RE_minority.csv\")\n",
    "RE_majority = pd.read_csv(f\"experiment_dim_{latent_dim}_B_{B}/n_epochs_{num_epochs}_RE_majority.csv\")"
   ]
  },
  {
   "cell_type": "code",
   "execution_count": 11,
   "metadata": {},
   "outputs": [
    {
     "data": {
      "text/plain": [
       "((47,), (47,))"
      ]
     },
     "execution_count": 11,
     "metadata": {},
     "output_type": "execute_result"
    }
   ],
   "source": [
    "l_min = RE_minority.mean(axis=0)\n",
    "l_maj = RE_majority.mean(axis=0)\n",
    "l_min.shape,l_maj.shape"
   ]
  },
  {
   "cell_type": "code",
   "execution_count": 12,
   "metadata": {},
   "outputs": [
    {
     "data": {
      "text/plain": [
       "age       0.045034\n",
       "mcv       0.010259\n",
       "hgb       0.013127\n",
       "hct       0.026162\n",
       "plt       0.016943\n",
       "mch       0.000844\n",
       "mchc      0.017457\n",
       "rdw       0.050517\n",
       "mpv       0.014276\n",
       "lym      -1.424438\n",
       "mono     -0.124913\n",
       "eos      -0.026231\n",
       "baso     -0.054098\n",
       "nt        0.005985\n",
       "aptt      0.021064\n",
       "fib       0.026277\n",
       "sodium    0.040163\n",
       "potass    0.052175\n",
       "ca        0.018825\n",
       "phos      0.106881\n",
       "mg        0.038232\n",
       "crea      0.056455\n",
       "bun       0.096056\n",
       "hs        0.069675\n",
       "gbil      0.048155\n",
       "tp        0.067457\n",
       "alb       0.044410\n",
       "amy      -0.018478\n",
       "lip      -0.047484\n",
       "che       0.032708\n",
       "ap        0.286386\n",
       "asat     -0.041678\n",
       "alat     -0.217871\n",
       "ggt       0.198559\n",
       "ldh      -0.117114\n",
       "ck        0.057892\n",
       "glu       0.377031\n",
       "crp       0.030016\n",
       "basor    -0.075017\n",
       "eosr     -0.051910\n",
       "lymr     -0.019041\n",
       "monor     0.005785\n",
       "neu       0.016509\n",
       "neur      0.016155\n",
       "pdw       0.012953\n",
       "rbc       0.020885\n",
       "wbc      -0.237692\n",
       "dtype: float64"
      ]
     },
     "execution_count": 12,
     "metadata": {},
     "output_type": "execute_result"
    }
   ],
   "source": [
    "diff = l_min - l_maj\n",
    "diff"
   ]
  },
  {
   "cell_type": "code",
   "execution_count": 18,
   "metadata": {},
   "outputs": [
    {
     "data": {
      "text/plain": [
       "np.float64(0.041012514967910516)"
      ]
     },
     "execution_count": 18,
     "metadata": {},
     "output_type": "execute_result"
    }
   ],
   "source": [
    "delta = 0.7\n",
    "delta_threshold = diff.quantile(delta)\n",
    "delta_threshold"
   ]
  },
  {
   "cell_type": "code",
   "execution_count": 19,
   "metadata": {},
   "outputs": [],
   "source": [
    "extracted_features = \", \".join(diff[diff > delta_threshold].index.to_list())\n",
    "extracted_features \n",
    "\n",
    "with open(f\"experiment_dim_{latent_dim}_B_{B}/features_extracted_delta_{delta}.txt\", \"w\") as file:\n",
    "    file.write(extracted_features)"
   ]
  },
  {
   "cell_type": "code",
   "execution_count": null,
   "metadata": {},
   "outputs": [
    {
     "data": {
      "text/html": [
       "<div>\n",
       "<style scoped>\n",
       "    .dataframe tbody tr th:only-of-type {\n",
       "        vertical-align: middle;\n",
       "    }\n",
       "\n",
       "    .dataframe tbody tr th {\n",
       "        vertical-align: top;\n",
       "    }\n",
       "\n",
       "    .dataframe thead th {\n",
       "        text-align: right;\n",
       "    }\n",
       "</style>\n",
       "<table border=\"1\" class=\"dataframe\">\n",
       "  <thead>\n",
       "    <tr style=\"text-align: right;\">\n",
       "      <th></th>\n",
       "      <th>id</th>\n",
       "      <th>sex</th>\n",
       "      <th>age</th>\n",
       "      <th>mcv</th>\n",
       "      <th>hgb</th>\n",
       "      <th>hct</th>\n",
       "      <th>plt</th>\n",
       "      <th>mch</th>\n",
       "      <th>mchc</th>\n",
       "      <th>rdw</th>\n",
       "      <th>...</th>\n",
       "      <th>basor</th>\n",
       "      <th>eosr</th>\n",
       "      <th>lymr</th>\n",
       "      <th>monor</th>\n",
       "      <th>neu</th>\n",
       "      <th>neur</th>\n",
       "      <th>pdw</th>\n",
       "      <th>rbc</th>\n",
       "      <th>wbc</th>\n",
       "      <th>bacteremia</th>\n",
       "    </tr>\n",
       "  </thead>\n",
       "  <tbody>\n",
       "    <tr>\n",
       "      <th>0</th>\n",
       "      <td>1</td>\n",
       "      <td>female</td>\n",
       "      <td>62</td>\n",
       "      <td>99.3</td>\n",
       "      <td>11.5</td>\n",
       "      <td>35.9</td>\n",
       "      <td>307</td>\n",
       "      <td>31.5</td>\n",
       "      <td>31.8</td>\n",
       "      <td>19.5</td>\n",
       "      <td>...</td>\n",
       "      <td>0.413223</td>\n",
       "      <td>0.000000</td>\n",
       "      <td>1.652893</td>\n",
       "      <td>7.024793</td>\n",
       "      <td>22.0</td>\n",
       "      <td>90.909091</td>\n",
       "      <td>10.6</td>\n",
       "      <td>3.7</td>\n",
       "      <td>24.10</td>\n",
       "      <td>0</td>\n",
       "    </tr>\n",
       "    <tr>\n",
       "      <th>1</th>\n",
       "      <td>5</td>\n",
       "      <td>male</td>\n",
       "      <td>46</td>\n",
       "      <td>96.3</td>\n",
       "      <td>7.4</td>\n",
       "      <td>22.8</td>\n",
       "      <td>64</td>\n",
       "      <td>31.2</td>\n",
       "      <td>32.4</td>\n",
       "      <td>19.7</td>\n",
       "      <td>...</td>\n",
       "      <td>0.568182</td>\n",
       "      <td>0.568182</td>\n",
       "      <td>8.522727</td>\n",
       "      <td>6.818182</td>\n",
       "      <td>14.7</td>\n",
       "      <td>83.522727</td>\n",
       "      <td>14.1</td>\n",
       "      <td>2.5</td>\n",
       "      <td>17.45</td>\n",
       "      <td>0</td>\n",
       "    </tr>\n",
       "    <tr>\n",
       "      <th>2</th>\n",
       "      <td>7</td>\n",
       "      <td>male</td>\n",
       "      <td>84</td>\n",
       "      <td>91.3</td>\n",
       "      <td>10.3</td>\n",
       "      <td>31.1</td>\n",
       "      <td>309</td>\n",
       "      <td>30.4</td>\n",
       "      <td>33.3</td>\n",
       "      <td>13.8</td>\n",
       "      <td>...</td>\n",
       "      <td>0.000000</td>\n",
       "      <td>0.000000</td>\n",
       "      <td>11.016949</td>\n",
       "      <td>6.779661</td>\n",
       "      <td>9.7</td>\n",
       "      <td>82.203390</td>\n",
       "      <td>8.7</td>\n",
       "      <td>3.5</td>\n",
       "      <td>11.58</td>\n",
       "      <td>0</td>\n",
       "    </tr>\n",
       "    <tr>\n",
       "      <th>3</th>\n",
       "      <td>9</td>\n",
       "      <td>female</td>\n",
       "      <td>38</td>\n",
       "      <td>85.1</td>\n",
       "      <td>13.7</td>\n",
       "      <td>38.7</td>\n",
       "      <td>183</td>\n",
       "      <td>30.2</td>\n",
       "      <td>35.3</td>\n",
       "      <td>12.6</td>\n",
       "      <td>...</td>\n",
       "      <td>0.000000</td>\n",
       "      <td>0.000000</td>\n",
       "      <td>8.333333</td>\n",
       "      <td>4.166667</td>\n",
       "      <td>8.4</td>\n",
       "      <td>87.500000</td>\n",
       "      <td>12.2</td>\n",
       "      <td>4.4</td>\n",
       "      <td>9.86</td>\n",
       "      <td>0</td>\n",
       "    </tr>\n",
       "    <tr>\n",
       "      <th>4</th>\n",
       "      <td>10</td>\n",
       "      <td>male</td>\n",
       "      <td>68</td>\n",
       "      <td>104.5</td>\n",
       "      <td>15.7</td>\n",
       "      <td>46.9</td>\n",
       "      <td>144</td>\n",
       "      <td>34.8</td>\n",
       "      <td>33.5</td>\n",
       "      <td>13.9</td>\n",
       "      <td>...</td>\n",
       "      <td>0.000000</td>\n",
       "      <td>1.000000</td>\n",
       "      <td>22.000000</td>\n",
       "      <td>9.000000</td>\n",
       "      <td>6.8</td>\n",
       "      <td>68.000000</td>\n",
       "      <td>12.9</td>\n",
       "      <td>4.3</td>\n",
       "      <td>9.94</td>\n",
       "      <td>0</td>\n",
       "    </tr>\n",
       "  </tbody>\n",
       "</table>\n",
       "<p>5 rows × 50 columns</p>\n",
       "</div>"
      ],
      "text/plain": [
       "   id     sex  age    mcv   hgb   hct  plt   mch  mchc   rdw  ...     basor  \\\n",
       "0   1  female   62   99.3  11.5  35.9  307  31.5  31.8  19.5  ...  0.413223   \n",
       "1   5    male   46   96.3   7.4  22.8   64  31.2  32.4  19.7  ...  0.568182   \n",
       "2   7    male   84   91.3  10.3  31.1  309  30.4  33.3  13.8  ...  0.000000   \n",
       "3   9  female   38   85.1  13.7  38.7  183  30.2  35.3  12.6  ...  0.000000   \n",
       "4  10    male   68  104.5  15.7  46.9  144  34.8  33.5  13.9  ...  0.000000   \n",
       "\n",
       "       eosr       lymr     monor   neu       neur   pdw  rbc    wbc  \\\n",
       "0  0.000000   1.652893  7.024793  22.0  90.909091  10.6  3.7  24.10   \n",
       "1  0.568182   8.522727  6.818182  14.7  83.522727  14.1  2.5  17.45   \n",
       "2  0.000000  11.016949  6.779661   9.7  82.203390   8.7  3.5  11.58   \n",
       "3  0.000000   8.333333  4.166667   8.4  87.500000  12.2  4.4   9.86   \n",
       "4  1.000000  22.000000  9.000000   6.8  68.000000  12.9  4.3   9.94   \n",
       "\n",
       "   bacteremia  \n",
       "0           0  \n",
       "1           0  \n",
       "2           0  \n",
       "3           0  \n",
       "4           0  \n",
       "\n",
       "[5 rows x 50 columns]"
      ]
     },
     "execution_count": 33,
     "metadata": {},
     "output_type": "execute_result"
    }
   ],
   "source": [
    "#df = pd.read_csv(\"train_test_val_data/train_data.csv\")\n",
    "#df.head()\n"
   ]
  },
  {
   "cell_type": "code",
   "execution_count": null,
   "metadata": {},
   "outputs": [],
   "source": [
    "#check_df = df.drop(columns=[\"sex\", \"id\", \"bacteremia\"])"
   ]
  }
 ],
 "metadata": {
  "kernelspec": {
   "display_name": "nonparametric",
   "language": "python",
   "name": "python3"
  },
  "language_info": {
   "codemirror_mode": {
    "name": "ipython",
    "version": 3
   },
   "file_extension": ".py",
   "mimetype": "text/x-python",
   "name": "python",
   "nbconvert_exporter": "python",
   "pygments_lexer": "ipython3",
   "version": "3.13.1"
  }
 },
 "nbformat": 4,
 "nbformat_minor": 2
}
